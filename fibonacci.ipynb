{
  "cells": [
    {
      "cell_type": "code",
      "execution_count": null,
      "metadata": {
        "id": "mk2VRVUGnzuW"
      },
      "outputs": [],
      "source": [
        "def fib(a):\n",
        "  if a==0 or a==1:\n",
        "    return 0\n",
        "  elif a < 0 :\n",
        "    print (\"yok\")\n",
        "  else:\n",
        "    return fib(a-1) + fib(a-2)"
      ]
    },
    {
      "cell_type": "code",
      "execution_count": null,
      "metadata": {
        "colab": {
          "base_uri": "https://localhost:8080/"
        },
        "id": "utW09Ul4n9K3",
        "outputId": "218dcf9f-2ca4-4942-c4b7-98a1037e847c"
      },
      "outputs": [
        {
          "name": "stdout",
          "output_type": "stream",
          "text": [
            "55\n"
          ]
        }
      ],
      "source": [
        "print(f(9))"
      ]
    },
    {
      "cell_type": "code",
      "execution_count": null,
      "metadata": {
        "colab": {
          "base_uri": "https://localhost:8080/"
        },
        "id": "EkJHKInJpcmC",
        "outputId": "7d786587-38ec-46ad-aae2-cbe01404967e"
      },
      "outputs": [
        {
          "name": "stdout",
          "output_type": "stream",
          "text": [
            "34\n"
          ]
        }
      ],
      "source": [
        "def fibonacci(n):\n",
        "    a = 0\n",
        "    b = 1\n",
        "     \n",
        "    # Check is n is less\n",
        "    # than 0\n",
        "    if n < 0:\n",
        "        print(\"Incorrect input\")\n",
        "         \n",
        "    # Check is n is equal\n",
        "    # to 0\n",
        "    elif n == 0:\n",
        "        return 0\n",
        "       \n",
        "    # Check if n is equal to 1\n",
        "    elif n == 1:\n",
        "        return b\n",
        "    else:\n",
        "        for i in range(1, n):\n",
        "            c = a + b\n",
        "            a = b\n",
        "            b = c\n",
        "        return b\n",
        " \n",
        "# Driver Program\n",
        "print(fibonacci(9))"
      ]
    },
    {
      "cell_type": "code",
      "execution_count": null,
      "metadata": {
        "colab": {
          "base_uri": "https://localhost:8080/"
        },
        "id": "rOV1nxG6pdoz",
        "outputId": "b4658e0e-a41f-4c44-e657-6e5c69241e99"
      },
      "outputs": [
        {
          "data": {
            "text/plain": [
              "34"
            ]
          },
          "execution_count": 35,
          "metadata": {},
          "output_type": "execute_result"
        }
      ],
      "source": [
        "fibonacci(9)"
      ]
    }
  ],
  "metadata": {
    "colab": {
      "provenance": []
    },
    "kernelspec": {
      "display_name": "Python 3",
      "name": "python3"
    },
    "language_info": {
      "name": "python"
    }
  },
  "nbformat": 4,
  "nbformat_minor": 0
}
